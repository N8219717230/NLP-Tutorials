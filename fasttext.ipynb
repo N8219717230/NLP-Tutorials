{
 "cells": [
  {
   "cell_type": "code",
   "execution_count": 4,
   "id": "2e50f852",
   "metadata": {},
   "outputs": [
    {
     "name": "stdout",
     "output_type": "stream",
     "text": [
      "Collecting fasttext\n",
      "  Using cached fasttext-0.9.2.tar.gz (68 kB)\n",
      "  Preparing metadata (setup.py): started\n",
      "  Preparing metadata (setup.py): finished with status 'done'\n",
      "Requirement already satisfied: pybind11>=2.2 in c:\\users\\nitish thakur\\anaconda3\\lib\\site-packages (from fasttext) (2.10.4)\n",
      "Requirement already satisfied: setuptools>=0.7.0 in c:\\users\\nitish thakur\\anaconda3\\lib\\site-packages (from fasttext) (65.6.3)\n",
      "Requirement already satisfied: numpy in c:\\users\\nitish thakur\\anaconda3\\lib\\site-packages (from fasttext) (1.23.5)\n",
      "Building wheels for collected packages: fasttext\n",
      "  Building wheel for fasttext (setup.py): started\n",
      "  Building wheel for fasttext (setup.py): finished with status 'error'\n",
      "  Running setup.py clean for fasttext\n",
      "Failed to build fasttext\n",
      "Installing collected packages: fasttext\n",
      "  Running setup.py install for fasttext: started\n",
      "  Running setup.py install for fasttext: finished with status 'error'\n"
     ]
    },
    {
     "name": "stderr",
     "output_type": "stream",
     "text": [
      "  error: subprocess-exited-with-error\n",
      "  \n",
      "  python setup.py bdist_wheel did not run successfully.\n",
      "  exit code: 1\n",
      "  \n",
      "  [20 lines of output]\n",
      "  C:\\Users\\Nitish Thakur\\anaconda3\\lib\\site-packages\\setuptools\\dist.py:770: UserWarning: Usage of dash-separated 'description-file' will not be supported in future versions. Please use the underscore name 'description_file' instead\n",
      "    warnings.warn(\n",
      "  running bdist_wheel\n",
      "  running build\n",
      "  running build_py\n",
      "  creating build\n",
      "  creating build\\lib.win-amd64-cpython-310\n",
      "  creating build\\lib.win-amd64-cpython-310\\fasttext\n",
      "  copying python\\fasttext_module\\fasttext\\FastText.py -> build\\lib.win-amd64-cpython-310\\fasttext\n",
      "  copying python\\fasttext_module\\fasttext\\__init__.py -> build\\lib.win-amd64-cpython-310\\fasttext\n",
      "  creating build\\lib.win-amd64-cpython-310\\fasttext\\util\n",
      "  copying python\\fasttext_module\\fasttext\\util\\util.py -> build\\lib.win-amd64-cpython-310\\fasttext\\util\n",
      "  copying python\\fasttext_module\\fasttext\\util\\__init__.py -> build\\lib.win-amd64-cpython-310\\fasttext\\util\n",
      "  creating build\\lib.win-amd64-cpython-310\\fasttext\\tests\n",
      "  copying python\\fasttext_module\\fasttext\\tests\\test_configurations.py -> build\\lib.win-amd64-cpython-310\\fasttext\\tests\n",
      "  copying python\\fasttext_module\\fasttext\\tests\\test_script.py -> build\\lib.win-amd64-cpython-310\\fasttext\\tests\n",
      "  copying python\\fasttext_module\\fasttext\\tests\\__init__.py -> build\\lib.win-amd64-cpython-310\\fasttext\\tests\n",
      "  running build_ext\n",
      "  building 'fasttext_pybind' extension\n",
      "  error: Microsoft Visual C++ 14.0 or greater is required. Get it with \"Microsoft C++ Build Tools\": https://visualstudio.microsoft.com/visual-cpp-build-tools/\n",
      "  [end of output]\n",
      "  \n",
      "  note: This error originates from a subprocess, and is likely not a problem with pip.\n",
      "  ERROR: Failed building wheel for fasttext\n",
      "  error: subprocess-exited-with-error\n",
      "  \n",
      "  Running setup.py install for fasttext did not run successfully.\n",
      "  exit code: 1\n",
      "  \n",
      "  [22 lines of output]\n",
      "  C:\\Users\\Nitish Thakur\\anaconda3\\lib\\site-packages\\setuptools\\dist.py:770: UserWarning: Usage of dash-separated 'description-file' will not be supported in future versions. Please use the underscore name 'description_file' instead\n",
      "    warnings.warn(\n",
      "  running install\n",
      "  C:\\Users\\Nitish Thakur\\anaconda3\\lib\\site-packages\\setuptools\\command\\install.py:34: SetuptoolsDeprecationWarning: setup.py install is deprecated. Use build and pip and other standards-based tools.\n",
      "    warnings.warn(\n",
      "  running build\n",
      "  running build_py\n",
      "  creating build\n",
      "  creating build\\lib.win-amd64-cpython-310\n",
      "  creating build\\lib.win-amd64-cpython-310\\fasttext\n",
      "  copying python\\fasttext_module\\fasttext\\FastText.py -> build\\lib.win-amd64-cpython-310\\fasttext\n",
      "  copying python\\fasttext_module\\fasttext\\__init__.py -> build\\lib.win-amd64-cpython-310\\fasttext\n",
      "  creating build\\lib.win-amd64-cpython-310\\fasttext\\util\n",
      "  copying python\\fasttext_module\\fasttext\\util\\util.py -> build\\lib.win-amd64-cpython-310\\fasttext\\util\n",
      "  copying python\\fasttext_module\\fasttext\\util\\__init__.py -> build\\lib.win-amd64-cpython-310\\fasttext\\util\n",
      "  creating build\\lib.win-amd64-cpython-310\\fasttext\\tests\n",
      "  copying python\\fasttext_module\\fasttext\\tests\\test_configurations.py -> build\\lib.win-amd64-cpython-310\\fasttext\\tests\n",
      "  copying python\\fasttext_module\\fasttext\\tests\\test_script.py -> build\\lib.win-amd64-cpython-310\\fasttext\\tests\n",
      "  copying python\\fasttext_module\\fasttext\\tests\\__init__.py -> build\\lib.win-amd64-cpython-310\\fasttext\\tests\n",
      "  running build_ext\n",
      "  building 'fasttext_pybind' extension\n",
      "  error: Microsoft Visual C++ 14.0 or greater is required. Get it with \"Microsoft C++ Build Tools\": https://visualstudio.microsoft.com/visual-cpp-build-tools/\n",
      "  [end of output]\n",
      "  \n",
      "  note: This error originates from a subprocess, and is likely not a problem with pip.\n",
      "error: legacy-install-failure\n",
      "\n",
      "Encountered error while trying to install package.\n",
      "\n",
      "fasttext\n",
      "\n",
      "note: This is an issue with the package mentioned above, not pip.\n",
      "hint: See above for output from the failure.\n"
     ]
    }
   ],
   "source": [
    "!pip install fasttext"
   ]
  },
  {
   "cell_type": "code",
   "execution_count": 15,
   "id": "a2f2da54",
   "metadata": {},
   "outputs": [
    {
     "ename": "ModuleNotFoundError",
     "evalue": "No module named 'fasttext'",
     "output_type": "error",
     "traceback": [
      "\u001b[1;31m---------------------------------------------------------------------------\u001b[0m",
      "\u001b[1;31mModuleNotFoundError\u001b[0m                       Traceback (most recent call last)",
      "Cell \u001b[1;32mIn[15], line 1\u001b[0m\n\u001b[1;32m----> 1\u001b[0m \u001b[38;5;28;01mimport\u001b[39;00m \u001b[38;5;21;01mfasttext\u001b[39;00m\n",
      "\u001b[1;31mModuleNotFoundError\u001b[0m: No module named 'fasttext'"
     ]
    }
   ],
   "source": [
    "import fasttext"
   ]
  },
  {
   "cell_type": "code",
   "execution_count": 7,
   "id": "e112b17f",
   "metadata": {},
   "outputs": [],
   "source": [
    "import pandas as pd\n",
    "\n",
    "df = pd.read_csv(\"Cleaned_Indian_Food_Dataset.csv\")"
   ]
  },
  {
   "cell_type": "code",
   "execution_count": 8,
   "id": "194634dc",
   "metadata": {},
   "outputs": [
    {
     "data": {
      "text/html": [
       "<div>\n",
       "<style scoped>\n",
       "    .dataframe tbody tr th:only-of-type {\n",
       "        vertical-align: middle;\n",
       "    }\n",
       "\n",
       "    .dataframe tbody tr th {\n",
       "        vertical-align: top;\n",
       "    }\n",
       "\n",
       "    .dataframe thead th {\n",
       "        text-align: right;\n",
       "    }\n",
       "</style>\n",
       "<table border=\"1\" class=\"dataframe\">\n",
       "  <thead>\n",
       "    <tr style=\"text-align: right;\">\n",
       "      <th></th>\n",
       "      <th>TranslatedRecipeName</th>\n",
       "      <th>TranslatedIngredients</th>\n",
       "      <th>TotalTimeInMins</th>\n",
       "      <th>Cuisine</th>\n",
       "      <th>TranslatedInstructions</th>\n",
       "      <th>URL</th>\n",
       "      <th>Cleaned-Ingredients</th>\n",
       "      <th>image-url</th>\n",
       "      <th>Ingredient-count</th>\n",
       "    </tr>\n",
       "  </thead>\n",
       "  <tbody>\n",
       "    <tr>\n",
       "      <th>0</th>\n",
       "      <td>Masala Karela Recipe</td>\n",
       "      <td>1 tablespoon Red Chilli powder,3 tablespoon Gr...</td>\n",
       "      <td>45</td>\n",
       "      <td>Indian</td>\n",
       "      <td>To begin making the Masala Karela Recipe,de-se...</td>\n",
       "      <td>https://www.archanaskitchen.com/masala-karela-...</td>\n",
       "      <td>salt,amchur (dry mango powder),karela (bitter ...</td>\n",
       "      <td>https://www.archanaskitchen.com/images/archana...</td>\n",
       "      <td>10</td>\n",
       "    </tr>\n",
       "    <tr>\n",
       "      <th>1</th>\n",
       "      <td>Spicy Tomato Rice (Recipe)</td>\n",
       "      <td>2 teaspoon cashew - or peanuts, 1/2 Teaspoon ...</td>\n",
       "      <td>15</td>\n",
       "      <td>South Indian Recipes</td>\n",
       "      <td>To make tomato puliogere, first cut the tomato...</td>\n",
       "      <td>https://www.archanaskitchen.com/spicy-tomato-r...</td>\n",
       "      <td>tomato,salt,chickpea lentils,green chilli,rice...</td>\n",
       "      <td>https://www.archanaskitchen.com/images/archana...</td>\n",
       "      <td>12</td>\n",
       "    </tr>\n",
       "    <tr>\n",
       "      <th>2</th>\n",
       "      <td>Ragi Semiya Upma Recipe - Ragi Millet Vermicel...</td>\n",
       "      <td>1 Onion - sliced,1 teaspoon White Urad Dal (Sp...</td>\n",
       "      <td>50</td>\n",
       "      <td>South Indian Recipes</td>\n",
       "      <td>To begin making the Ragi Vermicelli Recipe, fi...</td>\n",
       "      <td>https://www.archanaskitchen.com/ragi-vermicell...</td>\n",
       "      <td>salt,rice vermicelli noodles (thin),asafoetida...</td>\n",
       "      <td>https://www.archanaskitchen.com/images/archana...</td>\n",
       "      <td>12</td>\n",
       "    </tr>\n",
       "    <tr>\n",
       "      <th>3</th>\n",
       "      <td>Gongura Chicken Curry Recipe - Andhra Style Go...</td>\n",
       "      <td>1/2 teaspoon Turmeric powder (Haldi),1 tablesp...</td>\n",
       "      <td>45</td>\n",
       "      <td>Andhra</td>\n",
       "      <td>To begin making Gongura Chicken Curry Recipe f...</td>\n",
       "      <td>https://www.archanaskitchen.com/gongura-chicke...</td>\n",
       "      <td>tomato,salt,ginger,sorrel leaves (gongura),fen...</td>\n",
       "      <td>https://www.archanaskitchen.com/images/archana...</td>\n",
       "      <td>15</td>\n",
       "    </tr>\n",
       "    <tr>\n",
       "      <th>4</th>\n",
       "      <td>Andhra Style Alam Pachadi Recipe - Adrak Chutn...</td>\n",
       "      <td>oil - as per use, 1 tablespoon coriander seed...</td>\n",
       "      <td>30</td>\n",
       "      <td>Andhra</td>\n",
       "      <td>To make Andhra Style Alam Pachadi, first heat ...</td>\n",
       "      <td>https://www.archanaskitchen.com/andhra-style-a...</td>\n",
       "      <td>tomato,salt,ginger,red chillies,curry,asafoeti...</td>\n",
       "      <td>https://www.archanaskitchen.com/images/archana...</td>\n",
       "      <td>12</td>\n",
       "    </tr>\n",
       "    <tr>\n",
       "      <th>...</th>\n",
       "      <td>...</td>\n",
       "      <td>...</td>\n",
       "      <td>...</td>\n",
       "      <td>...</td>\n",
       "      <td>...</td>\n",
       "      <td>...</td>\n",
       "      <td>...</td>\n",
       "      <td>...</td>\n",
       "      <td>...</td>\n",
       "    </tr>\n",
       "    <tr>\n",
       "      <th>5933</th>\n",
       "      <td>Saffron Paneer Peda Recipe</td>\n",
       "      <td>2 teaspoons Rose water,1/2 teaspoon Ghee,2 cup...</td>\n",
       "      <td>20</td>\n",
       "      <td>Indian</td>\n",
       "      <td>To begin making the Saffron Paneer Peda recipe...</td>\n",
       "      <td>https://www.archanaskitchen.com/saffron-paneer...</td>\n",
       "      <td>saffron strands generous,ghee,paneer,rose wate...</td>\n",
       "      <td>https://www.archanaskitchen.com/images/archana...</td>\n",
       "      <td>7</td>\n",
       "    </tr>\n",
       "    <tr>\n",
       "      <th>5934</th>\n",
       "      <td>Italian Arancini Rice Balls Recipe With Delici...</td>\n",
       "      <td>4 sprig Basil leaves - finely chopped,2 cups W...</td>\n",
       "      <td>100</td>\n",
       "      <td>Italian Recipes</td>\n",
       "      <td>To begin making the Italian Arancini Rice Ball...</td>\n",
       "      <td>https://www.archanaskitchen.com/italian-aranci...</td>\n",
       "      <td>salt,gorgonzola cheese cubes,wheat bread crumb...</td>\n",
       "      <td>https://www.archanaskitchen.com/images/archana...</td>\n",
       "      <td>14</td>\n",
       "    </tr>\n",
       "    <tr>\n",
       "      <th>5935</th>\n",
       "      <td>Quinoa Phirnee Recipe (Quinoa Milk Pudding)</td>\n",
       "      <td>3/4 cup Sugar,2 cup Milk - vegans can substitu...</td>\n",
       "      <td>35</td>\n",
       "      <td>Indian</td>\n",
       "      <td>To begin making Quinoa Phirnee Recipe, place a...</td>\n",
       "      <td>https://www.archanaskitchen.com/quinoa-phirnee...</td>\n",
       "      <td>ghee,milk,saffron strands,sugar,cardamom powde...</td>\n",
       "      <td>https://www.archanaskitchen.com/images/archana...</td>\n",
       "      <td>8</td>\n",
       "    </tr>\n",
       "    <tr>\n",
       "      <th>5936</th>\n",
       "      <td>Ullikadala Pulusu Recipe | Spring Onion Curry</td>\n",
       "      <td>1 pinch Turmeric powder (Haldi),1/2 teaspoon M...</td>\n",
       "      <td>15</td>\n",
       "      <td>Andhra</td>\n",
       "      <td>To begin making Ullikadala Pulusu Recipe | Spr...</td>\n",
       "      <td>https://www.archanaskitchen.com/ullikadala-pul...</td>\n",
       "      <td>salt,tamarind water,mustard seeds,asafoetida (...</td>\n",
       "      <td>https://www.archanaskitchen.com/images/archana...</td>\n",
       "      <td>13</td>\n",
       "    </tr>\n",
       "    <tr>\n",
       "      <th>5937</th>\n",
       "      <td>Kashmiri Style Kokur Yakhni Recipe-Chicken Coo...</td>\n",
       "      <td>Salt - as required,3 to 4 Cloves (Laung),Ghee ...</td>\n",
       "      <td>75</td>\n",
       "      <td>Kashmiri</td>\n",
       "      <td>To begin making the Kashmiri Kokur Yakhni reci...</td>\n",
       "      <td>https://www.archanaskitchen.com/kashmiri-kokur...</td>\n",
       "      <td>black cardamom (badi elaichi),salt,mustard oil...</td>\n",
       "      <td>https://www.archanaskitchen.com/images/archana...</td>\n",
       "      <td>13</td>\n",
       "    </tr>\n",
       "  </tbody>\n",
       "</table>\n",
       "<p>5938 rows × 9 columns</p>\n",
       "</div>"
      ],
      "text/plain": [
       "                                   TranslatedRecipeName  \\\n",
       "0                                  Masala Karela Recipe   \n",
       "1                            Spicy Tomato Rice (Recipe)   \n",
       "2     Ragi Semiya Upma Recipe - Ragi Millet Vermicel...   \n",
       "3     Gongura Chicken Curry Recipe - Andhra Style Go...   \n",
       "4     Andhra Style Alam Pachadi Recipe - Adrak Chutn...   \n",
       "...                                                 ...   \n",
       "5933                         Saffron Paneer Peda Recipe   \n",
       "5934  Italian Arancini Rice Balls Recipe With Delici...   \n",
       "5935        Quinoa Phirnee Recipe (Quinoa Milk Pudding)   \n",
       "5936      Ullikadala Pulusu Recipe | Spring Onion Curry   \n",
       "5937  Kashmiri Style Kokur Yakhni Recipe-Chicken Coo...   \n",
       "\n",
       "                                  TranslatedIngredients  TotalTimeInMins  \\\n",
       "0     1 tablespoon Red Chilli powder,3 tablespoon Gr...               45   \n",
       "1      2 teaspoon cashew - or peanuts, 1/2 Teaspoon ...               15   \n",
       "2     1 Onion - sliced,1 teaspoon White Urad Dal (Sp...               50   \n",
       "3     1/2 teaspoon Turmeric powder (Haldi),1 tablesp...               45   \n",
       "4      oil - as per use, 1 tablespoon coriander seed...               30   \n",
       "...                                                 ...              ...   \n",
       "5933  2 teaspoons Rose water,1/2 teaspoon Ghee,2 cup...               20   \n",
       "5934  4 sprig Basil leaves - finely chopped,2 cups W...              100   \n",
       "5935  3/4 cup Sugar,2 cup Milk - vegans can substitu...               35   \n",
       "5936  1 pinch Turmeric powder (Haldi),1/2 teaspoon M...               15   \n",
       "5937  Salt - as required,3 to 4 Cloves (Laung),Ghee ...               75   \n",
       "\n",
       "                   Cuisine                             TranslatedInstructions  \\\n",
       "0                   Indian  To begin making the Masala Karela Recipe,de-se...   \n",
       "1     South Indian Recipes  To make tomato puliogere, first cut the tomato...   \n",
       "2     South Indian Recipes  To begin making the Ragi Vermicelli Recipe, fi...   \n",
       "3                   Andhra  To begin making Gongura Chicken Curry Recipe f...   \n",
       "4                   Andhra  To make Andhra Style Alam Pachadi, first heat ...   \n",
       "...                    ...                                                ...   \n",
       "5933                Indian  To begin making the Saffron Paneer Peda recipe...   \n",
       "5934       Italian Recipes  To begin making the Italian Arancini Rice Ball...   \n",
       "5935                Indian  To begin making Quinoa Phirnee Recipe, place a...   \n",
       "5936                Andhra  To begin making Ullikadala Pulusu Recipe | Spr...   \n",
       "5937              Kashmiri  To begin making the Kashmiri Kokur Yakhni reci...   \n",
       "\n",
       "                                                    URL  \\\n",
       "0     https://www.archanaskitchen.com/masala-karela-...   \n",
       "1     https://www.archanaskitchen.com/spicy-tomato-r...   \n",
       "2     https://www.archanaskitchen.com/ragi-vermicell...   \n",
       "3     https://www.archanaskitchen.com/gongura-chicke...   \n",
       "4     https://www.archanaskitchen.com/andhra-style-a...   \n",
       "...                                                 ...   \n",
       "5933  https://www.archanaskitchen.com/saffron-paneer...   \n",
       "5934  https://www.archanaskitchen.com/italian-aranci...   \n",
       "5935  https://www.archanaskitchen.com/quinoa-phirnee...   \n",
       "5936  https://www.archanaskitchen.com/ullikadala-pul...   \n",
       "5937  https://www.archanaskitchen.com/kashmiri-kokur...   \n",
       "\n",
       "                                    Cleaned-Ingredients  \\\n",
       "0     salt,amchur (dry mango powder),karela (bitter ...   \n",
       "1     tomato,salt,chickpea lentils,green chilli,rice...   \n",
       "2     salt,rice vermicelli noodles (thin),asafoetida...   \n",
       "3     tomato,salt,ginger,sorrel leaves (gongura),fen...   \n",
       "4     tomato,salt,ginger,red chillies,curry,asafoeti...   \n",
       "...                                                 ...   \n",
       "5933  saffron strands generous,ghee,paneer,rose wate...   \n",
       "5934  salt,gorgonzola cheese cubes,wheat bread crumb...   \n",
       "5935  ghee,milk,saffron strands,sugar,cardamom powde...   \n",
       "5936  salt,tamarind water,mustard seeds,asafoetida (...   \n",
       "5937  black cardamom (badi elaichi),salt,mustard oil...   \n",
       "\n",
       "                                              image-url  Ingredient-count  \n",
       "0     https://www.archanaskitchen.com/images/archana...                10  \n",
       "1     https://www.archanaskitchen.com/images/archana...                12  \n",
       "2     https://www.archanaskitchen.com/images/archana...                12  \n",
       "3     https://www.archanaskitchen.com/images/archana...                15  \n",
       "4     https://www.archanaskitchen.com/images/archana...                12  \n",
       "...                                                 ...               ...  \n",
       "5933  https://www.archanaskitchen.com/images/archana...                 7  \n",
       "5934  https://www.archanaskitchen.com/images/archana...                14  \n",
       "5935  https://www.archanaskitchen.com/images/archana...                 8  \n",
       "5936  https://www.archanaskitchen.com/images/archana...                13  \n",
       "5937  https://www.archanaskitchen.com/images/archana...                13  \n",
       "\n",
       "[5938 rows x 9 columns]"
      ]
     },
     "execution_count": 8,
     "metadata": {},
     "output_type": "execute_result"
    }
   ],
   "source": [
    "df"
   ]
  },
  {
   "cell_type": "code",
   "execution_count": 9,
   "id": "986f0edd",
   "metadata": {},
   "outputs": [
    {
     "data": {
      "text/plain": [
       "'To begin making the Masala Karela Recipe,de-seed the karela and slice.\\nDo not remove the skin as the skin has all the nutrients.\\nAdd the karela to the pressure cooker with 3 tablespoon of water, salt and turmeric powder and pressure cook for three whistles.\\nRelease the pressure immediately and open the lids.\\nKeep aside.Heat oil in a heavy bottomed pan or a kadhai.\\nAdd cumin seeds and let it sizzle.Once the cumin seeds have sizzled, add onions and saute them till it turns golden brown in color.Add the karela, red chilli powder, amchur powder, coriander powder and besan.\\nStir to combine the masalas into the karela.Drizzle a little extra oil on the top and mix again.\\nCover the pan and simmer Masala Karela stirring occasionally until everything comes together well.\\nTurn off the heat.Transfer Masala Karela into a serving bowl and serve.Serve Masala Karela along with Panchmel Dal and Phulka for a weekday meal with your family.\\n'"
      ]
     },
     "execution_count": 9,
     "metadata": {},
     "output_type": "execute_result"
    }
   ],
   "source": [
    "df.TranslatedInstructions[0]"
   ]
  },
  {
   "cell_type": "code",
   "execution_count": 10,
   "id": "6ae1f4fb",
   "metadata": {},
   "outputs": [
    {
     "data": {
      "text/plain": [
       "'To begin making the Masala Karela Recipe de seed the karela and slice \\nDo not remove the skin as the skin has all the nutrients \\nAdd the karela to the pressure cooker with 3 tablespoon of water  salt and turmeric powder and pressure cook for three whistles \\nRelease the pressure immediately and open the lids \\nKeep aside Heat oil in a heavy bottomed pan or a kadhai \\nAdd cumin seeds and let it sizzle Once the cumin seeds have sizzled  add onions and saute them till it turns golden brown in color Add the karela  red chilli powder  amchur powder  coriander powder and besan \\nStir to combine the masalas into the karela Drizzle a little extra oil on the top and mix again \\nCover the pan and simmer Masala Karela stirring occasionally until everything comes together well \\nTurn off the heat Transfer Masala Karela into a serving bowl and serve Serve Masala Karela along with Panchmel Dal and Phulka for a weekday meal with your family \\n'"
      ]
     },
     "execution_count": 10,
     "metadata": {},
     "output_type": "execute_result"
    }
   ],
   "source": [
    "import re\n",
    "\n",
    "text = 'To begin making the Masala Karela Recipe,de-seed the karela and slice.\\nDo not remove the skin as the skin has all the nutrients.\\nAdd the karela to the pressure cooker with 3 tablespoon of water, salt and turmeric powder and pressure cook for three whistles.\\nRelease the pressure immediately and open the lids.\\nKeep aside.Heat oil in a heavy bottomed pan or a kadhai.\\nAdd cumin seeds and let it sizzle.Once the cumin seeds have sizzled, add onions and saute them till it turns golden brown in color.Add the karela, red chilli powder, amchur powder, coriander powder and besan.\\nStir to combine the masalas into the karela.Drizzle a little extra oil on the top and mix again.\\nCover the pan and simmer Masala Karela stirring occasionally until everything comes together well.\\nTurn off the heat.Transfer Masala Karela into a serving bowl and serve.Serve Masala Karela along with Panchmel Dal and Phulka for a weekday meal with your family.\\n'\n",
    "\n",
    "re.sub(r\"[^\\w\\s]\", \" \", text, flags=re.MULTILINE)\n"
   ]
  },
  {
   "cell_type": "code",
   "execution_count": 11,
   "id": "c8e68374",
   "metadata": {},
   "outputs": [],
   "source": [
    "def preprocess(text):\n",
    "    text = re.sub(r'[^\\w\\s\\']',' ', text)\n",
    "    text = re.sub(r'[ \\n]+', ' ', text)\n",
    "    return text.strip().lower() "
   ]
  },
  {
   "cell_type": "code",
   "execution_count": 12,
   "id": "5bb5cd70",
   "metadata": {},
   "outputs": [
    {
     "data": {
      "text/plain": [
       "'to begin making the masala karela recipe de seed the karela and slice do not remove the skin as the skin has all the nutrients add the karela to the pressure cooker with 3 tablespoon of water salt and turmeric powder and pressure cook for three whistles release the pressure immediately and open the lids keep aside heat oil in a heavy bottomed pan or a kadhai add cumin seeds and let it sizzle once the cumin seeds have sizzled add onions and saute them till it turns golden brown in color add the karela red chilli powder amchur powder coriander powder and besan stir to combine the masalas into the karela drizzle a little extra oil on the top and mix again cover the pan and simmer masala karela stirring occasionally until everything comes together well turn off the heat transfer masala karela into a serving bowl and serve serve masala karela along with panchmel dal and phulka for a weekday meal with your family'"
      ]
     },
     "execution_count": 12,
     "metadata": {},
     "output_type": "execute_result"
    }
   ],
   "source": [
    "preprocess(text)"
   ]
  },
  {
   "cell_type": "code",
   "execution_count": 13,
   "id": "a728e33b",
   "metadata": {},
   "outputs": [],
   "source": [
    "df.TranslatedInstructions = df.TranslatedInstructions.map(preprocess)"
   ]
  },
  {
   "cell_type": "code",
   "execution_count": 14,
   "id": "8e042e7d",
   "metadata": {},
   "outputs": [],
   "source": [
    "df.to_csv(\"food_receipes.txt\", columns=[\"TranslatedInstructions\"], header=None, index=False)"
   ]
  },
  {
   "cell_type": "code",
   "execution_count": null,
   "id": "ebbde7ea",
   "metadata": {},
   "outputs": [],
   "source": [
    "import fasttext\n",
    "\n",
    "model = fasttext.train_unsupervised(\"food_receipes.txt\")"
   ]
  },
  {
   "cell_type": "code",
   "execution_count": null,
   "id": "cff5113e",
   "metadata": {},
   "outputs": [],
   "source": [
    "model.get_nearest_neighbors(\"paneer\")"
   ]
  },
  {
   "cell_type": "code",
   "execution_count": null,
   "id": "de93f453",
   "metadata": {},
   "outputs": [],
   "source": [
    "model.get_nearest_neighbors(\"saragva\")"
   ]
  },
  {
   "cell_type": "code",
   "execution_count": null,
   "id": "7e41d23a",
   "metadata": {},
   "outputs": [],
   "source": []
  }
 ],
 "metadata": {
  "kernelspec": {
   "display_name": "Python 3 (ipykernel)",
   "language": "python",
   "name": "python3"
  },
  "language_info": {
   "codemirror_mode": {
    "name": "ipython",
    "version": 3
   },
   "file_extension": ".py",
   "mimetype": "text/x-python",
   "name": "python",
   "nbconvert_exporter": "python",
   "pygments_lexer": "ipython3",
   "version": "3.10.9"
  }
 },
 "nbformat": 4,
 "nbformat_minor": 5
}
