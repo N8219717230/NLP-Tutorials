{
 "cells": [
  {
   "cell_type": "code",
   "execution_count": 1,
   "id": "4429adf6",
   "metadata": {},
   "outputs": [],
   "source": [
    "import numpy as np\n",
    "from tensorflow.keras.preprocessing.text import one_hot\n",
    "from tensorflow.keras.preprocessing.sequence import pad_sequences\n",
    "from tensorflow.keras.models import Sequential\n",
    "from tensorflow.keras.layers import Dense\n",
    "from tensorflow.keras.layers import Flatten\n",
    "from tensorflow.keras.layers import Embedding\n",
    "\n",
    "reviews = ['nice food',\n",
    "        'amazing restaurant',\n",
    "        'too good',\n",
    "        'just loved it!',\n",
    "        'will go again',\n",
    "        'horrible food',\n",
    "        'never go there',\n",
    "        'poor service',\n",
    "        'poor quality',\n",
    "        'needs improvement']\n",
    "\n",
    "sentiment = np.array([1,1,1,1,1,0,0,0,0,0])"
   ]
  },
  {
   "cell_type": "code",
   "execution_count": 6,
   "id": "1af00163",
   "metadata": {},
   "outputs": [
    {
     "data": {
      "text/plain": [
       "[20, 25]"
      ]
     },
     "execution_count": 6,
     "metadata": {},
     "output_type": "execute_result"
    }
   ],
   "source": [
    "one_hot(\"amazing restaurant\",30)"
   ]
  },
  {
   "cell_type": "code",
   "execution_count": 9,
   "id": "fbc03be4",
   "metadata": {},
   "outputs": [
    {
     "data": {
      "text/plain": [
       "[[16, 19],\n",
       " [20, 25],\n",
       " [5, 29],\n",
       " [26, 3, 12],\n",
       " [2, 9, 15],\n",
       " [2, 19],\n",
       " [25, 9, 3],\n",
       " [4, 6],\n",
       " [4, 21],\n",
       " [5, 8]]"
      ]
     },
     "execution_count": 9,
     "metadata": {},
     "output_type": "execute_result"
    }
   ],
   "source": [
    "vocab_size = 30\n",
    "\n",
    "encoded_reviews =[one_hot(d,vocab_size) for d in reviews\n",
    "                 ]\n",
    "encoded_reviews"
   ]
  },
  {
   "cell_type": "code",
   "execution_count": 11,
   "id": "4c571242",
   "metadata": {},
   "outputs": [
    {
     "name": "stdout",
     "output_type": "stream",
     "text": [
      "[[16 19  0]\n",
      " [20 25  0]\n",
      " [ 5 29  0]\n",
      " [26  3 12]\n",
      " [ 2  9 15]\n",
      " [ 2 19  0]\n",
      " [25  9  3]\n",
      " [ 4  6  0]\n",
      " [ 4 21  0]\n",
      " [ 5  8  0]]\n"
     ]
    }
   ],
   "source": [
    "# make all in same dimentaion\n",
    "\n",
    "max_length = 3\n",
    "padded_reviews = pad_sequences(encoded_reviews,maxlen = max_length,padding =\"post\")\n",
    "print(padded_reviews)"
   ]
  },
  {
   "cell_type": "code",
   "execution_count": 18,
   "id": "2a8303d0",
   "metadata": {},
   "outputs": [],
   "source": [
    "embeded_vector_size =4\n",
    "model = Sequential()\n",
    "model.add(Embedding(vocab_size,embeded_vector_size,input_length=max_length,name=\"embedding\"))\n",
    "model.add(Flatten())\n",
    "model.add(Dense(1,activation =\"sigmoid\"))\n"
   ]
  },
  {
   "cell_type": "code",
   "execution_count": 19,
   "id": "ead4bccb",
   "metadata": {},
   "outputs": [],
   "source": [
    "X =padded_reviews\n",
    "y=sentiment"
   ]
  },
  {
   "cell_type": "code",
   "execution_count": 20,
   "id": "d03ad39c",
   "metadata": {},
   "outputs": [],
   "source": [
    "model.compile(optimizer =\"adam\",loss = \"binary_crossentropy\",metrics = [\"accuracy\"])"
   ]
  },
  {
   "cell_type": "code",
   "execution_count": 21,
   "id": "47b9741d",
   "metadata": {},
   "outputs": [
    {
     "name": "stdout",
     "output_type": "stream",
     "text": [
      "Model: \"sequential_2\"\n",
      "_________________________________________________________________\n",
      " Layer (type)                Output Shape              Param #   \n",
      "=================================================================\n",
      " embedding (Embedding)       (None, 3, 4)              120       \n",
      "                                                                 \n",
      " flatten_1 (Flatten)         (None, 12)                0         \n",
      "                                                                 \n",
      " dense_1 (Dense)             (None, 1)                 13        \n",
      "                                                                 \n",
      "=================================================================\n",
      "Total params: 133\n",
      "Trainable params: 133\n",
      "Non-trainable params: 0\n",
      "_________________________________________________________________\n"
     ]
    }
   ],
   "source": [
    "model.summary()"
   ]
  },
  {
   "cell_type": "code",
   "execution_count": 23,
   "id": "9ff4a938",
   "metadata": {},
   "outputs": [
    {
     "data": {
      "text/plain": [
       "<keras.callbacks.History at 0x280675bebe0>"
      ]
     },
     "execution_count": 23,
     "metadata": {},
     "output_type": "execute_result"
    }
   ],
   "source": [
    "model.fit(X,y,epochs=10,verbose=0)"
   ]
  },
  {
   "cell_type": "code",
   "execution_count": 26,
   "id": "a1643e0f",
   "metadata": {},
   "outputs": [
    {
     "name": "stdout",
     "output_type": "stream",
     "text": [
      "1/1 [==============================] - 0s 250ms/step - loss: 0.6747 - accuracy: 0.9000\n"
     ]
    },
    {
     "data": {
      "text/plain": [
       "0.8999999761581421"
      ]
     },
     "execution_count": 26,
     "metadata": {},
     "output_type": "execute_result"
    }
   ],
   "source": [
    "loss,accuracy =model.evaluate(X,y)\n",
    "accuracy"
   ]
  },
  {
   "cell_type": "code",
   "execution_count": 28,
   "id": "faaa950f",
   "metadata": {},
   "outputs": [
    {
     "data": {
      "text/plain": [
       "[array([[ 0.02228306, -0.02733442,  0.03916399,  0.00593022],\n",
       "        [-0.03971695, -0.00437291,  0.00852519,  0.01001643],\n",
       "        [ 0.0372525 , -0.00315609,  0.02913126,  0.02718527],\n",
       "        [-0.05989155,  0.01640265,  0.00389305,  0.05000108],\n",
       "        [ 0.04315505, -0.01036798,  0.03867523, -0.00059735],\n",
       "        [ 0.00265378,  0.02656536,  0.03744922, -0.01324896],\n",
       "        [ 0.02281025, -0.0197744 , -0.05879378,  0.01839682],\n",
       "        [ 0.00839658,  0.01069114,  0.01515671,  0.03869971],\n",
       "        [ 0.00888169,  0.01655013, -0.02800155, -0.02874117],\n",
       "        [ 0.00586308, -0.01865325, -0.02567773, -0.02496734],\n",
       "        [ 0.01344353, -0.04370093, -0.00829213, -0.03301441],\n",
       "        [ 0.00914504, -0.04464848, -0.04370524,  0.01381185],\n",
       "        [-0.00580711,  0.03646167,  0.02523759, -0.0523531 ],\n",
       "        [-0.01435109, -0.03592272, -0.01625841, -0.04502715],\n",
       "        [ 0.03969917,  0.04732004,  0.02827125,  0.01536791],\n",
       "        [ 0.0580941 , -0.02445668, -0.05773865,  0.02499679],\n",
       "        [-0.06008152, -0.02341957, -0.03921384, -0.01762936],\n",
       "        [-0.04853472,  0.02986902, -0.04549662, -0.0083956 ],\n",
       "        [-0.04617058, -0.04096936, -0.04980581,  0.02603095],\n",
       "        [-0.00728757, -0.01701637, -0.02672442, -0.05262015],\n",
       "        [ 0.01275254,  0.06716984, -0.01746244,  0.01832733],\n",
       "        [ 0.00944731,  0.02533374, -0.02799376,  0.03164318],\n",
       "        [-0.03899263,  0.00788931,  0.02637636, -0.00473972],\n",
       "        [-0.04997706,  0.04335238,  0.00913374,  0.04625465],\n",
       "        [ 0.03382268, -0.02459357, -0.01968312,  0.03656727],\n",
       "        [ 0.03584325,  0.02289132,  0.04646873, -0.05854217],\n",
       "        [-0.00164534, -0.02139178, -0.04720856,  0.0561326 ],\n",
       "        [ 0.0105975 ,  0.0312053 ,  0.03163148,  0.01755747],\n",
       "        [-0.0157563 , -0.00509033,  0.04771114, -0.01961358],\n",
       "        [-0.02156836, -0.03624836,  0.01410666, -0.02740555]],\n",
       "       dtype=float32)]"
      ]
     },
     "execution_count": 28,
     "metadata": {},
     "output_type": "execute_result"
    }
   ],
   "source": [
    "model.get_layer(\"embedding\").get_weights()"
   ]
  },
  {
   "cell_type": "code",
   "execution_count": null,
   "id": "576db779",
   "metadata": {},
   "outputs": [],
   "source": []
  },
  {
   "cell_type": "code",
   "execution_count": null,
   "id": "e3a9c623",
   "metadata": {},
   "outputs": [],
   "source": []
  }
 ],
 "metadata": {
  "kernelspec": {
   "display_name": "Python 3 (ipykernel)",
   "language": "python",
   "name": "python3"
  },
  "language_info": {
   "codemirror_mode": {
    "name": "ipython",
    "version": 3
   },
   "file_extension": ".py",
   "mimetype": "text/x-python",
   "name": "python",
   "nbconvert_exporter": "python",
   "pygments_lexer": "ipython3",
   "version": "3.9.13"
  }
 },
 "nbformat": 4,
 "nbformat_minor": 5
}
